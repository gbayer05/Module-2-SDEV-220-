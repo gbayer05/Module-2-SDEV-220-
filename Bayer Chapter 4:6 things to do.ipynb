{
 "cells": [
  {
   "cell_type": "code",
   "execution_count": 8,
   "id": "267dc53b",
   "metadata": {},
   "outputs": [
    {
     "name": "stdout",
     "output_type": "stream",
     "text": [
      "too low\n"
     ]
    }
   ],
   "source": [
    "#4.1\n",
    "secret = 8\n",
    "guess = int(input(\"Please input a number between 1 and 10: \"))\n",
    "\n",
    "if guess == secret: \n",
    "    print(\"just right\")\n",
    "elif guess > secret:\n",
    "    print(\"too high\")\n",
    "else: \n",
    "    print(\"too low\")\n",
    "\n"
   ]
  },
  {
   "cell_type": "code",
   "execution_count": 9,
   "id": "88863ebc",
   "metadata": {},
   "outputs": [
    {
     "name": "stdout",
     "output_type": "stream",
     "text": [
      "cherry\n"
     ]
    }
   ],
   "source": [
    "#4.2 \n",
    "small = True \n",
    "green = False\n",
    "\n",
    "if small == True and green == True: \n",
    "    print(\"pea\")\n",
    "elif small == True and green == False: \n",
    "    print(\"cherry\")\n",
    "elif small == False and green == True: \n",
    "    print(\"watermelon\")\n",
    "elif small == False and green == False: \n",
    "    print(\"pumpkin\")\n"
   ]
  },
  {
   "cell_type": "code",
   "execution_count": 10,
   "id": "f49f2f7b",
   "metadata": {},
   "outputs": [
    {
     "name": "stdout",
     "output_type": "stream",
     "text": [
      "3\n",
      "2\n",
      "1\n",
      "0\n"
     ]
    }
   ],
   "source": [
    "#6.1 \n",
    "numbers = [3, 2, 1, 0]\n",
    "for x in numbers: \n",
    "    print(x)"
   ]
  },
  {
   "cell_type": "code",
   "execution_count": 11,
   "id": "47db3260",
   "metadata": {},
   "outputs": [
    {
     "name": "stdout",
     "output_type": "stream",
     "text": [
      "too low\n",
      "too low\n",
      "too low\n",
      "too low\n",
      "too low\n",
      "too low\n",
      "found it!!\n"
     ]
    }
   ],
   "source": [
    "#6.2 \n",
    "guess_me = 7 \n",
    "number = 1\n",
    "\n",
    "while True: \n",
    "    if number < guess_me: \n",
    "        print(\"too low\")\n",
    "    elif number == guess_me: \n",
    "        print(\"found it!!\")\n",
    "        break\n",
    "    else: \n",
    "        print(\"oops\")\n",
    "        break \n",
    "    number +=1 \n"
   ]
  },
  {
   "cell_type": "code",
   "execution_count": 12,
   "id": "10507fb7",
   "metadata": {},
   "outputs": [
    {
     "name": "stdout",
     "output_type": "stream",
     "text": [
      "too low\n",
      "too low\n",
      "too low\n",
      "too low\n",
      "too low\n",
      "found it!\n"
     ]
    }
   ],
   "source": [
    "#6.3 \n",
    "guess_me = 5\n",
    "\n",
    "for x in range(10): \n",
    "    if x < guess_me: \n",
    "        print(\"too low\")\n",
    "    elif x == guess_me: \n",
    "        print(\"found it!\")\n",
    "        break \n",
    "    else: \n",
    "        print(\"oops\")\n"
   ]
  }
 ],
 "metadata": {
  "kernelspec": {
   "display_name": "Python 3",
   "language": "python",
   "name": "python3"
  },
  "language_info": {
   "codemirror_mode": {
    "name": "ipython",
    "version": 3
   },
   "file_extension": ".py",
   "mimetype": "text/x-python",
   "name": "python",
   "nbconvert_exporter": "python",
   "pygments_lexer": "ipython3",
   "version": "3.13.1"
  }
 },
 "nbformat": 4,
 "nbformat_minor": 5
}
