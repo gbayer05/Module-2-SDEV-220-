{
 "cells": [
  {
   "cell_type": "code",
   "execution_count": null,
   "id": "267dc53b",
   "metadata": {},
   "outputs": [],
   "source": [
    "#4.1\n",
    "secret = 8\n",
    "guess = int(input(\"Please input a number between 1 and 10: \"))\n",
    "\n",
    "if guess == secret: \n",
    "    print(\"just right\")\n",
    "elif guess > secret:\n",
    "    print(\"too high\")\n",
    "else: \n",
    "    print(\"too low\")\n",
    "\n"
   ]
  },
  {
   "cell_type": "code",
   "execution_count": null,
   "id": "88863ebc",
   "metadata": {},
   "outputs": [],
   "source": [
    "#4.2 \n",
    "small = True \n",
    "green = False\n",
    "\n",
    "if small == True and green == True: \n",
    "    print(\"pea\")\n",
    "elif small == True and green == False: \n",
    "    print(\"cherry\")\n",
    "elif small == False and green == True: \n",
    "    print(\"watermelon\")\n",
    "elif small == False and green == False: \n",
    "    print(\"pumpkin\")\n"
   ]
  },
  {
   "cell_type": "code",
   "execution_count": null,
   "id": "f49f2f7b",
   "metadata": {},
   "outputs": [],
   "source": [
    "#6.1 \n",
    "numbers = [3, 2, 1, 0]\n",
    "for x in numbers: \n",
    "    print(x)"
   ]
  }
 ],
 "metadata": {
  "kernelspec": {
   "display_name": "Python 3",
   "language": "python",
   "name": "python3"
  },
  "language_info": {
   "name": "python",
   "version": "3.13.1"
  }
 },
 "nbformat": 4,
 "nbformat_minor": 5
}
